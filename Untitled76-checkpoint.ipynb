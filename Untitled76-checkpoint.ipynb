{
 "cells": [
  {
   "cell_type": "code",
   "execution_count": 1,
   "id": "41a8f7b2-e5ae-4690-8723-7b012b7b8e74",
   "metadata": {},
   "outputs": [
    {
     "name": "stdout",
     "output_type": "stream",
     "text": [
      "Prediction: ['Spam']\n"
     ]
    }
   ],
   "source": [
    "from sklearn.feature_extraction.text import CountVectorizer\n",
    "from sklearn.naive_bayes import MultinomialNB\n",
    "\n",
    "# Example data\n",
    "emails = [\"Buy now\", \"Meeting tomorrow\", \"Free money\", \"Hello friend\"]\n",
    "labels = [\"Spam\", \"Not Spam\", \"Spam\", \"Not Spam\"]\n",
    "\n",
    "# Vectorize email content\n",
    "vectorizer = CountVectorizer()\n",
    "X = vectorizer.fit_transform(emails)\n",
    "\n",
    "# Model training\n",
    "model = MultinomialNB()\n",
    "model.fit(X, labels)\n",
    "\n",
    "# Prediction\n",
    "new_email = [\"Free gift for you\"]\n",
    "new_email_vectorized = vectorizer.transform(new_email)\n",
    "print(\"Prediction:\", model.predict(new_email_vectorized))"
   ]
  },
  {
   "cell_type": "code",
   "execution_count": null,
   "id": "f0d4882d-3691-4943-b386-d1f312199faa",
   "metadata": {},
   "outputs": [],
   "source": []
  }
 ],
 "metadata": {
  "kernelspec": {
   "display_name": "Python 3 (ipykernel)",
   "language": "python",
   "name": "python3"
  },
  "language_info": {
   "codemirror_mode": {
    "name": "ipython",
    "version": 3
   },
   "file_extension": ".py",
   "mimetype": "text/x-python",
   "name": "python",
   "nbconvert_exporter": "python",
   "pygments_lexer": "ipython3",
   "version": "3.11.7"
  }
 },
 "nbformat": 4,
 "nbformat_minor": 5
}
