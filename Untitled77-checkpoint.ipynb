{
 "cells": [
  {
   "cell_type": "code",
   "execution_count": 2,
   "id": "1c67acb9-2299-4fb6-84a7-d677a043fa59",
   "metadata": {},
   "outputs": [
    {
     "name": "stdout",
     "output_type": "stream",
     "text": [
      "Prediction: ['A']\n"
     ]
    },
    {
     "name": "stderr",
     "output_type": "stream",
     "text": [
      "C:\\Users\\ABC\\anaconda3\\Lib\\site-packages\\sklearn\\base.py:493: UserWarning: X does not have valid feature names, but KNeighborsClassifier was fitted with feature names\n",
      "  warnings.warn(\n"
     ]
    }
   ],
   "source": [
    "import pandas as pd\n",
    "from sklearn.neighbors import KNeighborsClassifier\n",
    "from sklearn.preprocessing import LabelEncoder\n",
    "\n",
    "# Example data\n",
    "data = {\n",
    "    'Symptom1': [1, 0, 1, 0],\n",
    "    'Symptom2': [0, 1, 1, 0],\n",
    "    'Disease': ['A', 'B', 'A', 'B']\n",
    "}\n",
    "\n",
    "df = pd.DataFrame(data)\n",
    "\n",
    "# Encode the 'Disease' column\n",
    "label_encoder = LabelEncoder()\n",
    "df['Disease'] = label_encoder.fit_transform(df['Disease'])\n",
    "\n",
    "# Features and target\n",
    "X = df[['Symptom1', 'Symptom2']]\n",
    "y = df['Disease']\n",
    "\n",
    "# Model training\n",
    "knn = KNeighborsClassifier(n_neighbors=3)\n",
    "knn.fit(X, y)\n",
    "\n",
    "# Prediction\n",
    "print(\"Prediction:\", label_encoder.inverse_transform(knn.predict([[1, 1]])))\n"
   ]
  },
  {
   "cell_type": "code",
   "execution_count": null,
   "id": "75b50e43-50fe-4ae3-a8d2-7a0cd3de40fb",
   "metadata": {},
   "outputs": [],
   "source": []
  }
 ],
 "metadata": {
  "kernelspec": {
   "display_name": "Python 3 (ipykernel)",
   "language": "python",
   "name": "python3"
  },
  "language_info": {
   "codemirror_mode": {
    "name": "ipython",
    "version": 3
   },
   "file_extension": ".py",
   "mimetype": "text/x-python",
   "name": "python",
   "nbconvert_exporter": "python",
   "pygments_lexer": "ipython3",
   "version": "3.11.7"
  }
 },
 "nbformat": 4,
 "nbformat_minor": 5
}
