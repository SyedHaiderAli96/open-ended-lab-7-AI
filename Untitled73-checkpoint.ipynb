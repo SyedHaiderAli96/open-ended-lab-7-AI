{
 "cells": [
  {
   "cell_type": "code",
   "execution_count": 1,
   "id": "e71fe1d8-210d-4b7d-a4a6-66c467dd0310",
   "metadata": {},
   "outputs": [
    {
     "name": "stdout",
     "output_type": "stream",
     "text": [
      "   Student  Math  Science  English\n",
      "0    Alice  85.0     88.0      NaN\n",
      "1      Bob  85.0     90.0     87.0\n",
      "2  Charlie  78.0     90.0     79.0\n",
      "3    Diana  92.0     95.0     91.0\n"
     ]
    },
    {
     "name": "stderr",
     "output_type": "stream",
     "text": [
      "C:\\Users\\ABC\\AppData\\Local\\Temp\\ipykernel_15096\\274406939.py:15: FutureWarning: DataFrame.fillna with 'method' is deprecated and will raise in a future version. Use obj.ffill() or obj.bfill() instead.\n",
      "  df.fillna(method='ffill', inplace=True)\n"
     ]
    }
   ],
   "source": [
    "import pandas as pd\n",
    "\n",
    "# Sample data\n",
    "data = {\n",
    "    'Student': ['Alice', 'Bob', 'Charlie', 'Diana'],\n",
    "    'Math': [85, None, 78, 92],\n",
    "    'Science': [88, 90, None, 95],\n",
    "    'English': [None, 87, 79, 91]\n",
    "}\n",
    "\n",
    "# Create DataFrame\n",
    "df = pd.DataFrame(data)\n",
    "\n",
    "# Handle missing values with forward fill\n",
    "df.fillna(method='ffill', inplace=True)\n",
    "\n",
    "print(df)"
   ]
  },
  {
   "cell_type": "code",
   "execution_count": null,
   "id": "29d35f1a-979a-4af6-9b91-7a5dcde63029",
   "metadata": {},
   "outputs": [],
   "source": []
  }
 ],
 "metadata": {
  "kernelspec": {
   "display_name": "Python 3 (ipykernel)",
   "language": "python",
   "name": "python3"
  },
  "language_info": {
   "codemirror_mode": {
    "name": "ipython",
    "version": 3
   },
   "file_extension": ".py",
   "mimetype": "text/x-python",
   "name": "python",
   "nbconvert_exporter": "python",
   "pygments_lexer": "ipython3",
   "version": "3.11.7"
  }
 },
 "nbformat": 4,
 "nbformat_minor": 5
}
